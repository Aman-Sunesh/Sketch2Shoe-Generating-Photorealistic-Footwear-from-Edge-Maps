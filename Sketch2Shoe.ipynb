{
 "cells": [
  {
   "cell_type": "markdown",
   "id": "6cb3d5a7",
   "metadata": {},
   "source": [
    "# Sketch2Shoe - Generating Photorealistic Footwear from Edge Maps"
   ]
  },
  {
   "cell_type": "code",
   "execution_count": null,
   "id": "b15d4527",
   "metadata": {},
   "outputs": [],
   "source": [
    "import os\n",
    "import numpy as np\n",
    "from torch.utils.data import DataLoader\n",
    "import torch\n",
    "import torch.nn as nn\n",
    "import torch.nn.functional as F\n",
    "from torchvision.datasets import ImageFolder\n",
    "import torchvision.transforms as T\n",
    "from torchvision.utils import make_grid\n",
    "from torchvision.utils import save_image\n",
    "from tqdm.auto import tqdm\n",
    "from IPython.display import Image\n",
    "import matplotlib.pyplot as plt\n",
    "%matplotlib inline"
   ]
  },
  {
   "cell_type": "markdown",
   "id": "8bdf5d35",
   "metadata": {},
   "source": [
    "## Dataset & Data Loader"
   ]
  },
  {
   "cell_type": "code",
   "execution_count": 15,
   "id": "afa1601a",
   "metadata": {},
   "outputs": [],
   "source": [
    "# 1. Prepare data directory\n",
    "data_dir = './data'\n",
    "os.makedirs(data_dir, exist_ok=True)"
   ]
  }
 ],
 "metadata": {
  "kernelspec": {
   "display_name": "Python 3",
   "language": "python",
   "name": "python3"
  },
  "language_info": {
   "codemirror_mode": {
    "name": "ipython",
    "version": 3
   },
   "file_extension": ".py",
   "mimetype": "text/x-python",
   "name": "python",
   "nbconvert_exporter": "python",
   "pygments_lexer": "ipython3",
   "version": "3.12.1"
  }
 },
 "nbformat": 4,
 "nbformat_minor": 5
}
